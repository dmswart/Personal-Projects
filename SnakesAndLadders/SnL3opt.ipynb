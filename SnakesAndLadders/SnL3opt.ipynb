{
 "cells": [
  {
   "cell_type": "code",
   "execution_count": 1,
   "metadata": {},
   "outputs": [],
   "source": [
    "import math"
   ]
  },
  {
   "cell_type": "code",
   "execution_count": 2,
   "metadata": {},
   "outputs": [],
   "source": [
    "import gurobipy as gp"
   ]
  },
  {
   "cell_type": "code",
   "execution_count": 3,
   "metadata": {},
   "outputs": [],
   "source": [
    "from gurobipy import GRB"
   ]
  },
  {
   "cell_type": "markdown",
   "metadata": {},
   "source": [
    "**Setup**"
   ]
  },
  {
   "cell_type": "code",
   "execution_count": 4,
   "metadata": {},
   "outputs": [],
   "source": [
    "height = 10\n",
    "width = 10\n",
    "spaces = height * width"
   ]
  },
  {
   "cell_type": "code",
   "execution_count": 5,
   "metadata": {},
   "outputs": [],
   "source": [
    "#set snakes\n",
    "inputSnakePairs = [[3, 37], [6, 16], [15, 9], [49, 12], [14, 32],\n",
    "  [27, 56], [61, 22], [42, 17], [88, 36], [39, 44],\n",
    "  [58, 45], [75, 47], [94, 64], [97, 65], [69, 87],\n",
    "  [79, 98], [41, 85], [89, 91]]\n",
    "snakePairs = []\n",
    "for [head, tail] in inputSnakePairs:\n",
    "    if head < spaces - 1 and tail < spaces - 1:\n",
    "        snakePairs.append([head-1, tail-1])\n",
    "snakes = len(snakePairs)"
   ]
  },
  {
   "cell_type": "code",
   "execution_count": 6,
   "metadata": {},
   "outputs": [],
   "source": [
    "import random"
   ]
  },
  {
   "cell_type": "code",
   "execution_count": 7,
   "metadata": {},
   "outputs": [],
   "source": [
    "def normalBoard():\n",
    "    result = [];\n",
    "    for space in range(spaces):\n",
    "        j = space % width\n",
    "        i = int(space / width)\n",
    "        if (i%2) == 1:\n",
    "            j = (width-1) - j;\n",
    "        result = result + [(height-1 - i) + j * width]\n",
    "    return result\n",
    "\n",
    "def shuffledBoard():\n",
    "    result = normalBoard()\n",
    "    for v in range(spaces-2):\n",
    "        u = random.randrange(v+2, spaces, 2)\n",
    "        [result[u], result[v]] = [result[v], result[u]]\n",
    "    return result"
   ]
  },
  {
   "cell_type": "code",
   "execution_count": 8,
   "metadata": {},
   "outputs": [],
   "source": [
    "#board[space] = square.  Space is the position of the tour, square is the location on the board\n",
    "def getLocation(b, space):\n",
    "    square = b[space]\n",
    "    return [int(square/width), square%width]   # row, col\n",
    "            \n",
    "def getSpace(b, i, j):\n",
    "    square = i + j * width\n",
    "    return b.index(square)\n",
    "\n",
    "def displayBoard(b):\n",
    "    print(\"----------------------\")\n",
    "    print(cost(b))\n",
    "    print()\n",
    "    for i in range(height):\n",
    "        output = \"\"\n",
    "        for j in range(width):\n",
    "            output += str(getSpace(b, i, j)+1).ljust(4)\n",
    "        print(output)\n",
    "    print(\"----------------------\")"
   ]
  },
  {
   "cell_type": "code",
   "execution_count": 9,
   "metadata": {},
   "outputs": [],
   "source": [
    "def distance(b, space0, space1):\n",
    "    [i0, j0] = getLocation(b, space0)\n",
    "    [i1, j1] = getLocation(b, space1)\n",
    "    return math.hypot(i0 - i1, j0 - j1)\n",
    "\n",
    "def cost(b):\n",
    "    neighbor_sum = 0\n",
    "    for s in range(spaces-1):\n",
    "        neighbor_sum = neighbor_sum + distance(b, s, s+1) - 1\n",
    "    snake_sum = 0\n",
    "    for snake in range(snakes):\n",
    "        [head, tail] = snakePairs[snake]\n",
    "        snake_sum = snake_sum - distance(b, head, tail)\n",
    "        \n",
    "    return snake_sum + neighbor_sum * 1000"
   ]
  },
  {
   "cell_type": "markdown",
   "metadata": {},
   "source": [
    "**Board, path constraints**"
   ]
  },
  {
   "cell_type": "code",
   "execution_count": 10,
   "metadata": {},
   "outputs": [],
   "source": [
    "def reverse_segment_if_better3(tour, i, j, k):\n",
    "    cost0 = cost(tour)\n",
    "    \n",
    "    tourA = tour.copy()\n",
    "    tourA[i:j] = reversed(tourA[i:j])\n",
    "    costA = cost(tourA)\n",
    "    \n",
    "    tourB = tour.copy()\n",
    "    tourB[j:k] = reversed(tourB[j:k])\n",
    "    costB = cost(tourB)    \n",
    "    \n",
    "    tourC = tour.copy()\n",
    "    tourC[i:k] = reversed(tourC[i:k])\n",
    "    costC = cost(tourC)    \n",
    "    \n",
    "    tourD = tour.copy()\n",
    "    tmp = tourD[j:k] + tourD[i:j]\n",
    "    tourD[i:k] = tmp\n",
    "    costD = cost(tourD)\n",
    "    \n",
    "    if cost0 < min(costA, costB, costC, costD):\n",
    "        return tour\n",
    "    elif costA < min(costB, costC, costD):\n",
    "        return tourA\n",
    "    elif costB < min(costC, costD):\n",
    "        return tourB \n",
    "    elif costC < costD:\n",
    "        return tourC\n",
    "    else:\n",
    "        return tourD\n",
    "    \n",
    "def reverse_segment_if_better2(tour, i, j):\n",
    "    cost0 = cost(tour)\n",
    "    \n",
    "    tourA = tour.copy()\n",
    "    tourA[i:j] = reversed(tourA[i:j])\n",
    "    costA = cost(tourA)\n",
    "\n",
    "    \n",
    "    if cost0 < costA:\n",
    "        return tour\n",
    "    else:\n",
    "        return tourA"
   ]
  },
  {
   "cell_type": "code",
   "execution_count": 11,
   "metadata": {},
   "outputs": [],
   "source": [
    "def three_opt(tour):\n",
    "    \"\"\"Iterative improvement based on 3 exchange.\"\"\"\n",
    "    newcost = cost(tour)\n",
    "    currentcost = newcost+1\n",
    "    while(newcost < currentcost):\n",
    "        for step in range(30000):\n",
    "            i = random.randrange(spaces-6)\n",
    "            j = random.randrange(i+3, spaces-3, 2)\n",
    "            k = random.randrange(j+3, spaces + (i>0), 2)\n",
    "            tour = reverse_segment_if_better3(tour, i, j, k)\n",
    "        currentcost = newcost;    \n",
    "        newcost = cost(tour)\n",
    "    return tour\n",
    "\n",
    "def two_opt(tour):\n",
    "    \"\"\"Iterative improvement based on 2 exchange.\"\"\"\n",
    "    newcost = cost(tour)\n",
    "    currentcost = newcost+1\n",
    "    while(newcost < currentcost):\n",
    "        for step in range(5000):\n",
    "            i = random.randrange(spaces-3)\n",
    "            j = random.randrange(i+3, spaces, 2)\n",
    "            tour = reverse_segment_if_better2(tour, i, j)\n",
    "        currentcost = newcost;    \n",
    "        newcost = cost(tour)\n",
    "    return tour"
   ]
  },
  {
   "cell_type": "code",
   "execution_count": 12,
   "metadata": {},
   "outputs": [],
   "source": [
    "board = normalBoard()\n",
    "# board = shuffledBoard()"
   ]
  },
  {
   "cell_type": "code",
   "execution_count": null,
   "metadata": {},
   "outputs": [
    {
     "name": "stdout",
     "output_type": "stream",
     "text": [
      "----------------------\n",
      "-104.21070112481273\n",
      "\n",
      "54  55  56  57  58  59  60  63  64  65  \n",
      "53  52  87  86  83  82  61  62  67  66  \n",
      "50  51  88  85  84  81  74  73  68  69  \n",
      "49  90  89  98  97  80  75  72  71  70  \n",
      "48  91  100 99  96  79  76  19  18  17  \n",
      "47  92  93  94  95  78  77  20  15  16  \n",
      "46  45  44  29  28  25  24  21  14  13  \n",
      "41  42  43  30  27  26  23  22  11  12  \n",
      "40  37  36  31  32  7   8   9   10  1   \n",
      "39  38  35  34  33  6   5   4   3   2   \n",
      "----------------------\n",
      "   -106.03471264371245\n",
      "----------------------\n",
      "-106.03471264371245\n",
      "\n",
      "38  39  46  47  56  57  58  59  60  61  \n",
      "37  40  45  48  55  54  65  64  63  62  \n",
      "36  41  44  49  52  53  66  67  76  77  \n",
      "35  42  43  50  51  100 69  68  75  78  \n",
      "34  33  94  95  98  99  70  71  74  79  \n",
      "31  32  93  96  97  86  85  72  73  80  \n",
      "30  29  92  91  90  87  84  83  82  81  \n",
      "1   28  27  26  89  88  21  20  17  16  \n",
      "2   5   6   25  24  23  22  19  18  15  \n",
      "3   4   7   8   9   10  11  12  13  14  \n",
      "----------------------\n",
      "   -108.39927667443521\n",
      "----------------------\n",
      "-108.39927667443521\n",
      "\n",
      "48  49  52  53  60  61  62  63  64  65  \n",
      "47  50  51  54  59  58  33  32  31  66  \n",
      "46  41  40  55  56  57  34  29  30  67  \n",
      "45  42  39  38  37  36  35  28  69  68  \n",
      "44  43  8   7   6   5   26  27  70  71  \n",
      "95  94  9   10  11  4   25  24  73  72  \n",
      "96  93  92  13  12  3   2   23  74  75  \n",
      "97  90  91  14  15  16  1   22  21  76  \n",
      "98  89  88  85  84  17  18  19  20  77  \n",
      "99  100 87  86  83  82  81  80  79  78  \n",
      "----------------------\n",
      "   -105.26703313031503\n",
      "   -111.06986323283328\n",
      "----------------------\n",
      "-111.06986323283328\n",
      "\n",
      "8   7   84  83  82  81  78  77  76  75  \n",
      "9   6   85  60  61  80  79  72  73  74  \n",
      "10  5   86  59  62  63  64  71  70  69  \n",
      "11  4   87  58  57  56  65  66  67  68  \n",
      "12  3   88  89  90  55  54  53  52  51  \n",
      "13  2   1   100 91  46  47  48  49  50  \n",
      "14  97  98  99  92  45  42  41  38  37  \n",
      "15  96  95  94  93  44  43  40  39  36  \n",
      "16  19  20  23  24  27  28  31  32  35  \n",
      "17  18  21  22  25  26  29  30  33  34  \n",
      "----------------------\n",
      "   -109.40341560763152\n",
      "   -115.84761504996504\n",
      "----------------------\n",
      "-115.84761504996504\n",
      "\n",
      "82  81  80  79  78  71  70  69  66  65  \n",
      "83  14  13  12  77  72  73  68  67  64  \n",
      "84  15  16  11  76  75  74  61  62  63  \n",
      "85  18  17  10  9   8   7   60  57  56  \n",
      "86  19  20  21  2   3   6   59  58  55  \n",
      "87  24  23  22  1   4   5   52  53  54  \n",
      "88  25  26  27  28  35  36  51  50  49  \n",
      "89  90  91  92  29  34  37  38  39  48  \n",
      "100 97  96  93  30  33  42  41  40  47  \n",
      "99  98  95  94  31  32  43  44  45  46  \n",
      "----------------------\n",
      "   -106.99779238849419\n",
      "   -101.42018651372481\n",
      "   -109.82379466418936\n"
     ]
    }
   ],
   "source": [
    "bestScore = cost(board)\n",
    "displayBoard(board)\n",
    "while True:\n",
    "    board = two_opt(shuffledBoard())\n",
    "    while cost(board) > 1000: \n",
    "        board = two_opt(shuffledBoard())\n",
    "    board = three_opt(board)\n",
    "    print(\"   \" + str(cost(board)))\n",
    "    if cost(board) < bestScore:\n",
    "        bestScore = cost(board)\n",
    "        displayBoard(board)"
   ]
  },
  {
   "cell_type": "markdown",
   "metadata": {},
   "source": [
    "**Scratch space**"
   ]
  },
  {
   "cell_type": "code",
   "execution_count": null,
   "metadata": {},
   "outputs": [],
   "source": []
  },
  {
   "cell_type": "code",
   "execution_count": null,
   "metadata": {},
   "outputs": [],
   "source": []
  },
  {
   "cell_type": "code",
   "execution_count": null,
   "metadata": {},
   "outputs": [],
   "source": []
  },
  {
   "cell_type": "code",
   "execution_count": null,
   "metadata": {},
   "outputs": [],
   "source": []
  },
  {
   "cell_type": "code",
   "execution_count": null,
   "metadata": {},
   "outputs": [],
   "source": [
    "\n"
   ]
  },
  {
   "cell_type": "code",
   "execution_count": null,
   "metadata": {},
   "outputs": [],
   "source": [
    "cost(b)"
   ]
  },
  {
   "cell_type": "code",
   "execution_count": null,
   "metadata": {},
   "outputs": [],
   "source": []
  },
  {
   "cell_type": "code",
   "execution_count": null,
   "metadata": {},
   "outputs": [],
   "source": []
  }
 ],
 "metadata": {
  "kernelspec": {
   "display_name": "Python 3",
   "language": "python",
   "name": "python3"
  },
  "language_info": {
   "codemirror_mode": {
    "name": "ipython",
    "version": 3
   },
   "file_extension": ".py",
   "mimetype": "text/x-python",
   "name": "python",
   "nbconvert_exporter": "python",
   "pygments_lexer": "ipython3",
   "version": "3.6.11"
  }
 },
 "nbformat": 4,
 "nbformat_minor": 4
}
