{
 "cells": [
  {
   "cell_type": "code",
   "execution_count": 1,
   "metadata": {},
   "outputs": [],
   "source": [
    "import math"
   ]
  },
  {
   "cell_type": "code",
   "execution_count": 2,
   "metadata": {},
   "outputs": [],
   "source": [
    "import gurobipy as gp"
   ]
  },
  {
   "cell_type": "code",
   "execution_count": 3,
   "metadata": {},
   "outputs": [],
   "source": [
    "from gurobipy import GRB"
   ]
  },
  {
   "cell_type": "markdown",
   "metadata": {},
   "source": [
    "**Setup**"
   ]
  },
  {
   "cell_type": "code",
   "execution_count": 43,
   "metadata": {},
   "outputs": [],
   "source": [
    "height = 10\n",
    "width = 10\n",
    "spaces = height * width"
   ]
  },
  {
   "cell_type": "code",
   "execution_count": 44,
   "metadata": {},
   "outputs": [],
   "source": [
    "#set snakes\n",
    "inputSnakePairs = [[3, 37], [6, 16], [15, 9], [49, 12], [14, 32],\n",
    "  [27, 56], [61, 22], [42, 17], [88, 36], [39, 44],\n",
    "  [58, 45], [75, 47], [94, 64], [97, 65], [69, 87],\n",
    "  [79, 98], [41, 85], [89, 91]]\n",
    "snakePairs = []\n",
    "for [head, tail] in inputSnakePairs:\n",
    "    if head < spaces - 1 and tail < spaces - 1 and abs(head-tail) >= 2:\n",
    "        snakePairs.append([head-1, tail-1])\n",
    "snakes = len(snakePairs)"
   ]
  },
  {
   "cell_type": "code",
   "execution_count": 45,
   "metadata": {},
   "outputs": [],
   "source": [
    "model = gp.Model('SnakesAndLadders')"
   ]
  },
  {
   "cell_type": "code",
   "execution_count": 46,
   "metadata": {},
   "outputs": [],
   "source": [
    "vars = model.addVars(height, width, spaces, vtype=GRB.BINARY, name = 'VAR')"
   ]
  },
  {
   "cell_type": "code",
   "execution_count": 47,
   "metadata": {},
   "outputs": [],
   "source": [
    "# dist[s, d] = distance of snake s in dimension d (d = 0: vertical, d = 1: horizontal) \n",
    "row = model.addVars(spaces, vtype=GRB.INTEGER, lb=0, ub=height-1, name = 'ROW')\n",
    "col = model.addVars(spaces, vtype=GRB.INTEGER, lb=0, ub=width-1, name = 'COL')\n",
    "offset = model.addVars(snakes, 2, vtype=GRB.INTEGER, lb = -(width-1), ub = width-1, name = 'OFF')\n",
    "dist = model.addVars(snakes, 2, vtype=GRB.INTEGER, lb = 0, ub=width-1, name = 'DST')"
   ]
  },
  {
   "cell_type": "code",
   "execution_count": 48,
   "metadata": {},
   "outputs": [],
   "source": [
    "# display solution\n",
    "def getSpace(i, j):\n",
    "    result = -1\n",
    "    val = model.getAttr('X', vars)\n",
    "    for v in range(spaces):\n",
    "        if val[i, j, v] > 0.5:\n",
    "            result = v;\n",
    "    return result\n",
    "\n",
    "def getIJ(v):\n",
    "    result = [-1, -1]\n",
    "    val = model.getAttr('X', vars)\n",
    "    for i in range(height):\n",
    "        for j in range(width):\n",
    "            if val[i, j, v] > 0.5:\n",
    "                result = [i, j]\n",
    "    return result\n",
    "    \n",
    "def displayBoard():\n",
    "    vals = model.getAttr('X', vars)\n",
    "    for i in range(height):\n",
    "        output_string = ''\n",
    "        for j in range(width):\n",
    "            for v in range(spaces):\n",
    "                if vals[i, j, v] > 0.5:\n",
    "                    output_string += str(getSpace(i, j)+1).ljust(4)\n",
    "        print(output_string)"
   ]
  },
  {
   "cell_type": "markdown",
   "metadata": {},
   "source": [
    "**Board, path constraints**"
   ]
  },
  {
   "cell_type": "code",
   "execution_count": 49,
   "metadata": {},
   "outputs": [],
   "source": [
    "# Fix variables: even and odd spaces are arranged as checkerboards\n",
    "for i in range(height):\n",
    "    for j in range(width):\n",
    "        for v in range(spaces):\n",
    "            if (i+j+v) % 2 == 1 :\n",
    "                vars[i, j, v].UB = 0"
   ]
  },
  {
   "cell_type": "code",
   "execution_count": 50,
   "metadata": {},
   "outputs": [],
   "source": [
    "model.addConstrs((vars.sum(i, j, '*') == 1\n",
    "                 for i in range(height)\n",
    "                 for j in range(width)), name='V')\n",
    "model.update()"
   ]
  },
  {
   "cell_type": "code",
   "execution_count": 51,
   "metadata": {},
   "outputs": [],
   "source": [
    "model.addConstrs((vars.sum('*', '*', v) == 1\n",
    "                 for v in range(spaces)), name='S')\n",
    "model.update()"
   ]
  },
  {
   "cell_type": "code",
   "execution_count": 52,
   "metadata": {},
   "outputs": [],
   "source": [
    "def setNeighbors(v):\n",
    "    V = v + 1\n",
    "    for i in range(1, height-1):\n",
    "        model.addConstr(vars[i, 0, v] <= vars[i-1, 0, V] + vars[i, 1, V] + vars[i+1, 0, V], name='left')\n",
    "        model.addConstr(vars[i, width-1, v] <= vars[i-1, width-1, V] + vars[i, width-2, V] + vars[i+1, width-1, V], name='right')\n",
    "    for j in range(1, width-1):\n",
    "        model.addConstr(vars[0, j, v] <= vars[0, j-1, V] + vars[1, j, V] + vars[0, j+1, V], name='top')\n",
    "        model.addConstr(vars[height-1, j, v] <= vars[height-1, j-1, V] + vars[height-2, j, V] + vars[height-1, j+1, V], name='bottom')\n",
    "    for i in range(1, height-1):\n",
    "        for j in range(1, width-1):\n",
    "            model.addConstr(vars[i, j, v] <= vars[i-1, j, V] + vars[i, j-1, V] + vars[i, j+1, V] + vars[i+1, j, V], name='middle')\n",
    "    model.addConstr(vars[0, 0, v] <= vars[1, 0, V] + vars[0, 1, V], name='tl')\n",
    "    model.addConstr(vars[0, width-1, v] <= vars[1, width-1, V] + vars[0, width-2, V], name='tr')\n",
    "    model.addConstr(vars[height-1, 0, v] <= vars[height-2, 0, V] + vars[height-1, 1, V], name='bl')\n",
    "    model.addConstr(vars[height-1, width-1, v] <= vars[height-2, width-1, V] + vars[height-1, width-2, V], name='br')\n",
    "\n",
    "# set ordered path\n",
    "for v in range(spaces-1):\n",
    "    setNeighbors(v)"
   ]
  },
  {
   "cell_type": "markdown",
   "metadata": {},
   "source": [
    "**Snake distance variables**"
   ]
  },
  {
   "cell_type": "code",
   "execution_count": 53,
   "metadata": {},
   "outputs": [],
   "source": [
    "for v in range(spaces):\n",
    "    model.addConstr(row[v] == sum(vars[i, j, v] * i for i in range(height) for j in range(width)), name=\"ROW\"+str(v)) \n",
    "    model.addConstr(col[v] == sum(vars[i, j, v] * j for i in range(height) for j in range(width)), name=\"COL\"+str(v))\n",
    "    \n",
    "for s in range(snakes):\n",
    "    [head, tail] = snakePairs[s]\n",
    "    model.addConstr(offset[s, 0] == row[head] - row[tail], name=\"OFFS\"+str(s)+\",0\")\n",
    "    model.addConstr(offset[s, 1] == col[head] - col[tail], name=\"OFFS\"+str(s)+\",1\")\n",
    "    model.addGenConstrAbs(dist[s, 0], offset[s, 0], name=\"DIST\"+str(s)+\",0\")\n",
    "    model.addGenConstrAbs(dist[s, 1], offset[s, 1], name=\"DIST\"+str(s)+\",1\")"
   ]
  },
  {
   "cell_type": "code",
   "execution_count": 54,
   "metadata": {},
   "outputs": [
    {
     "name": "stdout",
     "output_type": "stream",
     "text": [
      "Gurobi Optimizer version 9.0.3 build v9.0.3rc0 (linux64)\n",
      "Optimize a model with 10336 rows, 10272 columns and 83848 nonzeros\n",
      "Model fingerprint: 0x169b8e07\n",
      "Model has 36 general constraints\n",
      "Variable types: 0 continuous, 10272 integer (10000 binary)\n",
      "Coefficient statistics:\n",
      "  Matrix range     [1e+00, 9e+00]\n",
      "  Objective range  [0e+00, 0e+00]\n",
      "  Bounds range     [1e+00, 9e+00]\n",
      "  RHS range        [1e+00, 1e+00]\n",
      "Presolve removed 5186 rows and 5272 columns\n",
      "Presolve time: 0.11s\n",
      "Presolved: 5150 rows, 5000 columns, 32770 nonzeros\n",
      "Variable types: 0 continuous, 5000 integer (5000 binary)\n",
      "Found heuristic solution: objective 0.0000000\n",
      "\n",
      "Explored 0 nodes (0 simplex iterations) in 0.14 seconds\n",
      "Thread count was 8 (of 8 available processors)\n",
      "\n",
      "Solution count 1: 0 \n",
      "\n",
      "Optimal solution found (tolerance 1.00e-04)\n",
      "Best objective 0.000000000000e+00, best bound 0.000000000000e+00, gap 0.0000%\n",
      "1   2   3   4   5   6   7   8   9   10  \n",
      "20  19  18  17  16  15  14  13  12  11  \n",
      "21  24  25  26  27  28  29  30  31  32  \n",
      "22  23  40  39  38  37  36  35  34  33  \n",
      "43  42  41  48  49  50  51  52  53  54  \n",
      "44  45  46  47  60  59  58  57  56  55  \n",
      "65  64  63  62  61  72  73  74  75  76  \n",
      "66  67  68  69  70  71  80  79  78  77  \n",
      "87  86  85  84  83  82  81  96  97  98  \n",
      "88  89  90  91  92  93  94  95  100 99  \n"
     ]
    }
   ],
   "source": [
    "model.update()\n",
    "model.optimize()    \n",
    "displayBoard()"
   ]
  },
  {
   "cell_type": "code",
   "execution_count": 55,
   "metadata": {},
   "outputs": [],
   "source": [
    "model.setObjective(dist.sum(), GRB.MINIMIZE)"
   ]
  },
  {
   "cell_type": "code",
   "execution_count": 42,
   "metadata": {},
   "outputs": [
    {
     "name": "stdout",
     "output_type": "stream",
     "text": [
      "Gurobi Optimizer version 9.0.3 build v9.0.3rc0 (linux64)\n",
      "Optimize a model with 2560 rows, 2523 columns and 19468 nonzeros\n",
      "Model fingerprint: 0x81ab1409\n",
      "Model has 12 general constraints\n",
      "Variable types: 0 continuous, 2523 integer (2401 binary)\n",
      "Coefficient statistics:\n",
      "  Matrix range     [1e+00, 6e+00]\n",
      "  Objective range  [1e+00, 1e+00]\n",
      "  Bounds range     [1e+00, 6e+00]\n",
      "  RHS range        [1e+00, 1e+00]\n",
      "\n",
      "Loaded MIP start from previous solve with objective 34\n",
      "\n",
      "Presolve removed 1238 rows and 1286 columns\n",
      "Presolve time: 0.03s\n",
      "Presolved: 1322 rows, 1237 columns, 8210 nonzeros\n",
      "Variable types: 0 continuous, 1237 integer (1201 binary)\n",
      "\n",
      "Root relaxation: objective 0.000000e+00, 1294 iterations, 0.09 seconds\n",
      "\n",
      "    Nodes    |    Current Node    |     Objective Bounds      |     Work\n",
      " Expl Unexpl |  Obj  Depth IntInf | Incumbent    BestBd   Gap | It/Node Time\n",
      "\n",
      "     0     0    0.00000    0  334   34.00000    0.00000   100%     -    0s\n",
      "     0     0    0.66667    0  476   34.00000    0.66667  98.0%     -    1s\n",
      "     0     0    0.66667    0  477   34.00000    0.66667  98.0%     -    1s\n",
      "     0     0    2.00000    0  403   34.00000    2.00000  94.1%     -    1s\n",
      "     0     0    2.00000    0  379   34.00000    2.00000  94.1%     -    1s\n",
      "     0     0    2.00000    0  393   34.00000    2.00000  94.1%     -    1s\n",
      "     0     0    2.00000    0  394   34.00000    2.00000  94.1%     -    1s\n",
      "     0     0    2.00000    0  316   34.00000    2.00000  94.1%     -    2s\n",
      "     0     0    2.00000    0  344   34.00000    2.00000  94.1%     -    2s\n",
      "     0     0    2.00000    0  320   34.00000    2.00000  94.1%     -    3s\n",
      "     0     0    2.00000    0  368   34.00000    2.00000  94.1%     -    3s\n",
      "     0     0    2.00000    0  351   34.00000    2.00000  94.1%     -    4s\n",
      "     0     0    2.00000    0  355   34.00000    2.00000  94.1%     -    4s\n",
      "     0     0    2.00000    0  351   34.00000    2.00000  94.1%     -    5s\n",
      "     0     0    2.00000    0  351   34.00000    2.00000  94.1%     -    5s\n",
      "     0     2    2.00000    0  294   34.00000    2.00000  94.1%     -    6s\n",
      "   729   441    2.00000   19  171   34.00000    2.00000  94.1%   197   10s\n",
      "H 1060   550                      28.0000000    2.00000  92.9%   185   14s\n",
      "H 1074   550                      26.0000000    2.00000  92.3%   184   14s\n",
      "  1081   634    4.00000   45  166   26.00000    2.00000  92.3%   184   15s\n",
      "  2119   959    6.00000   57  386   26.00000    2.00000  92.3%   178   21s\n",
      "H 2119   911                      24.0000000    2.00000  91.7%   178   22s\n",
      "  2124   914   10.33333   25  328   24.00000    2.00000  91.7%   178   25s\n",
      "H 2127   870                      22.0000000    2.00000  90.9%   177   28s\n",
      "  2130   872   18.00000   30  381   22.00000    2.00000  90.9%   177   30s\n",
      "  2136   876    6.00000   39  329   22.00000    2.00000  90.9%   177   36s\n",
      "  2141   885    2.00000   17  346   22.00000    2.00000  90.9%   218   40s\n",
      "  2177   906    2.00000   20  269   22.00000    2.00000  90.9%   236   45s\n",
      "* 2206   870              26      20.0000000    2.00000  90.0%   243   46s\n",
      "  2306   932    2.00000   25  322   20.00000    2.00000  90.0%   252   50s\n",
      "  2401   955    2.00000   27  244   20.00000    2.00000  90.0%   266   60s\n",
      "  2586  1027    2.00000   31  297   20.00000    2.00000  90.0%   293   65s\n",
      "  2897  1079    2.00000   39  237   20.00000    2.00000  90.0%   326   85s\n",
      "H 2903   986                      16.0000000    2.00000  87.5%   327   85s\n",
      "  3063  1109    2.09091   43  269   16.00000    2.00000  87.5%   342   90s\n",
      "  3556  1171    2.18935   38  236   16.00000    2.00000  87.5%   366   96s\n",
      "  3933  1179    5.95777   64  185   16.00000    2.00000  87.5%   373  102s\n",
      "  4160  1214    2.00000   30  295   16.00000    2.00000  87.5%   383  105s\n",
      "  4379  1250    2.00000   58  247   16.00000    2.00000  87.5%   396  110s\n",
      "  4630  1385   13.79655   53  179   16.00000    2.00000  87.5%   419  116s\n",
      "  5009  1590   12.00000   62  177   16.00000    2.00000  87.5%   434  123s\n",
      "  5214  1695    3.34228   63  238   16.00000    2.00000  87.5%   443  126s\n",
      "  5559  1931    7.12500   96  262   16.00000    2.00000  87.5%   455  132s\n",
      "  5727  2011    9.61324  108  231   16.00000    2.00000  87.5%   463  135s\n",
      "  6134  2224    2.00000   38  298   16.00000    2.00000  87.5%   474  143s\n",
      "  6311  2280    2.01625   44  322   16.00000    2.00000  87.5%   479  152s\n",
      "  6387  2404    4.00000   58  244   16.00000    2.00000  87.5%   483  157s\n",
      "  6590  2544    5.00000   80  257   16.00000    2.00000  87.5%   491  161s\n",
      "  6850  2672   13.58038   60  196   16.00000    2.00000  87.5%   498  165s\n",
      "  7377  2938    6.90476   50  202   16.00000    2.00000  87.5%   510  173s\n",
      "  7654  2959     cutoff   49        16.00000    2.00000  87.5%   513  188s\n",
      "  7677  3086     cutoff   50        16.00000    2.00000  87.5%   513  192s\n",
      "  7960  3207    5.66667   53  204   16.00000    2.00000  87.5%   522  197s\n",
      "  8217  3351    3.00000   72  228   16.00000    2.00000  87.5%   533  202s\n",
      "  8508  3499    5.00000   89  259   16.00000    2.00000  87.5%   541  207s\n",
      "  8780  3685     cutoff  101        16.00000    2.00000  87.5%   551  213s\n",
      "  9172  3859   12.23839  119  253   16.00000    2.00000  87.5%   558  220s\n",
      "  9618  4030    6.66796   44  249   16.00000    2.00000  87.5%   562  227s\n",
      "  9956  4293    6.34919   55  223   16.00000    2.00000  87.5%   570  234s\n",
      " 10406  4348    9.00000   47  144   16.00000    2.00000  87.5%   573  265s\n",
      " 10500  4617    9.00000   48  148   16.00000    2.00000  87.5%   574  273s\n",
      " 11099  4854    3.00000   54  271   16.00000    2.00000  87.5%   573  281s\n",
      " 11570  5147   12.00563   90  250   16.00000    2.00000  87.5%   579  289s\n",
      " 12069  5307    2.00000   41  240   16.00000    2.00000  87.5%   583  296s\n",
      " 12412  5487   14.20978   46  188   16.00000    2.00000  87.5%   594  304s\n",
      " 12866  5710   14.99426   49  186   16.00000    2.00000  87.5%   600  311s\n",
      " 13188  5895     cutoff   55        16.00000    2.00000  87.5%   610  318s\n",
      " 13656  6124    6.03077   53  297   16.00000    2.00000  87.5%   615  326s\n",
      " 14128  6346    2.00000   31  294   16.00000    2.00000  87.5%   621  334s\n",
      " 14572  6378    3.61111   37  257   16.00000    2.00000  87.5%   628  338s\n",
      "\n",
      "Cutting planes:\n",
      "  Gomory: 2\n",
      "  Cover: 9\n",
      "  Implied bound: 1\n",
      "  Clique: 1\n",
      "  MIR: 44\n",
      "  StrongCG: 3\n",
      "  Flow cover: 100\n",
      "  Inf proof: 43\n",
      "  Zero half: 20\n",
      "  RLT: 182\n",
      "\n",
      "Explored 14615 nodes (9213519 simplex iterations) in 338.09 seconds\n",
      "Thread count was 8 (of 8 available processors)\n",
      "\n",
      "Solution count 7: 16 20 22 ... 34\n",
      "\n",
      "Solve interrupted\n",
      "Best objective 1.600000000000e+01, best bound 2.000000000002e+00, gap 87.5000%\n",
      "27  28  29  30  31  32  33  \n",
      "26  25  14  13  12  11  34  \n",
      "23  24  15  8   9   10  35  \n",
      "22  21  16  7   4   3   36  \n",
      "49  20  17  6   5   2   37  \n",
      "48  19  18  43  42  1   38  \n",
      "47  46  45  44  41  40  39  \n"
     ]
    }
   ],
   "source": [
    "model.update()\n",
    "model.optimize()\n",
    "\n",
    "displayBoard()"
   ]
  },
  {
   "cell_type": "markdown",
   "metadata": {},
   "source": [
    "**Scratch space**"
   ]
  },
  {
   "cell_type": "code",
   "execution_count": null,
   "metadata": {},
   "outputs": [],
   "source": []
  },
  {
   "cell_type": "code",
   "execution_count": null,
   "metadata": {},
   "outputs": [],
   "source": []
  },
  {
   "cell_type": "code",
   "execution_count": null,
   "metadata": {},
   "outputs": [],
   "source": [
    "val = el.getAttr('X', vars)"
   ]
  },
  {
   "cell_type": "code",
   "execution_count": null,
   "metadata": {},
   "outputs": [],
   "source": []
  },
  {
   "cell_type": "code",
   "execution_count": null,
   "metadata": {},
   "outputs": [],
   "source": []
  },
  {
   "cell_type": "code",
   "execution_count": null,
   "metadata": {},
   "outputs": [],
   "source": []
  },
  {
   "cell_type": "code",
   "execution_count": null,
   "metadata": {},
   "outputs": [],
   "source": []
  },
  {
   "cell_type": "code",
   "execution_count": null,
   "metadata": {},
   "outputs": [],
   "source": []
  },
  {
   "cell_type": "code",
   "execution_count": null,
   "metadata": {},
   "outputs": [],
   "source": []
  },
  {
   "cell_type": "code",
   "execution_count": null,
   "metadata": {},
   "outputs": [],
   "source": []
  }
 ],
 "metadata": {
  "kernelspec": {
   "display_name": "Python 3",
   "language": "python",
   "name": "python3"
  },
  "language_info": {
   "codemirror_mode": {
    "name": "ipython",
    "version": 3
   },
   "file_extension": ".py",
   "mimetype": "text/x-python",
   "name": "python",
   "nbconvert_exporter": "python",
   "pygments_lexer": "ipython3",
   "version": "3.6.11"
  }
 },
 "nbformat": 4,
 "nbformat_minor": 4
}
